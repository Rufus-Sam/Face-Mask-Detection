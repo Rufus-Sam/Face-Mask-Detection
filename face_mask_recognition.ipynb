{
 "cells": [
  {
   "cell_type": "code",
   "execution_count": 1,
   "metadata": {},
   "outputs": [],
   "source": [
    "from tensorflow.keras.models import Sequential\n",
    "from tensorflow.keras.layers import Conv2D, MaxPooling2D, Flatten, Dropout, Dense\n",
    "#Inbuilt Sequential model => uses linear stack of layers for training and predicting.\n",
    "cnn = Sequential([Conv2D(filters=100, kernel_size=(3,3), activation='relu'),\n",
    "                    MaxPooling2D(pool_size=(2,2)),\n",
    "                    Conv2D(filters=100, kernel_size=(3,3), activation='relu'),\n",
    "                    MaxPooling2D(pool_size=(2,2)),\n",
    "                    Flatten(),\n",
    "                    Dropout(0.5),\n",
    "                    Dense(50),\n",
    "                    Dense(35),\n",
    "                    Dense(2)])\n",
    "\n",
    "cnn.compile(optimizer='adam', loss='binary_crossentropy', metrics=['acc'])"
   ]
  },
  {
   "cell_type": "code",
   "execution_count": 2,
   "metadata": {},
   "outputs": [
    {
     "name": "stdout",
     "output_type": "stream",
     "text": [
      "Found 1014 images belonging to 2 classes.\n",
      "Found 255 images belonging to 2 classes.\n"
     ]
    }
   ],
   "source": [
    "from tensorflow.keras.preprocessing.image import ImageDataGenerator\n",
    "\n",
    "training_directory = \"training\" #training data\n",
    "testing_directory = \"test\"  #test data\n",
    "\n",
    "# ImageDataGenerator() :\n",
    "#1 Take a batch of images used for training. \n",
    "#2 Apply random transformations to each image in the batch.\n",
    "#3 Replacing the original batch of images with a new randomly transformed batch.\n",
    "#4 Train a Deep Learning model on this transformed batch\n",
    "training_data_generator = ImageDataGenerator() \n",
    "testing_data_generator = ImageDataGenerator()\n",
    "training_generator = training_data_generator.flow_from_directory(training_directory, batch_size=10, target_size=(150, 150))\n",
    "testing_generator = testing_data_generator.flow_from_directory(testing_directory, batch_size=10, target_size=(150, 150))"
   ]
  },
  {
   "cell_type": "code",
   "execution_count": 3,
   "metadata": {},
   "outputs": [
    {
     "name": "stdout",
     "output_type": "stream",
     "text": [
      "102/102 [==============================] - 44s 435ms/step - loss: 7.9569 - acc: 0.4832 - val_loss: 7.9993 - val_acc: 0.4784\n"
     ]
    }
   ],
   "source": [
    "#training the model using training dataset\n",
    "epochs = cnn.fit(training_generator, epochs=1, validation_data=testing_generator) "
   ]
  },
  {
   "cell_type": "code",
   "execution_count": 4,
   "metadata": {},
   "outputs": [],
   "source": [
    "import cv2\n",
    "import numpy as np\n",
    "\n",
    "labels_dict={0:'No mask'} # To print out the labels\n",
    "color_dict={0:(255,0,0)} # To give color to border \n",
    "imgsize = 4 #set image resize\n",
    "camera = cv2.VideoCapture(0) #use camera\n",
    "#identify front face\n",
    "classifier = cv2.CascadeClassifier(cv2.data.haarcascades + 'haarcascade_frontalface_default.xml')\n",
    "while True:\n",
    "    (rval, im) = camera.read() #get input from front cam\n",
    "    im=cv2.flip(im,1,1) #mirrow the image\n",
    "    imgs = cv2.resize(im, (im.shape[1] // imgsize, im.shape[0] // imgsize)) #resize the image by given factor\n",
    "    face_rec = classifier.detectMultiScale(imgs)#detect faces multi scale\n",
    "    for i in face_rec:#extract face rectgular\n",
    "        (x, y, l, w) = [v * imgsize for v in i] #Scale the shapesize backup\n",
    "        #Save just the rectangle faces in SubRecFaces\n",
    "        face_img = im[y:y+w, x:x+l] \n",
    "        #resizing the image by giving height,width=150\n",
    "        resized=cv2.resize(face_img,(150,150)) \n",
    "        #normalize by a factor 255\n",
    "        normalized=resized/255.0 \n",
    "        #reshape by also giving x,y co-ordinates => 1,3\n",
    "        reshaped=np.reshape(normalized,(1,150,150,3)) \n",
    "        #making it a stack using  vstack as cnn accepts a stack to predict\n",
    "        reshaped = np.vstack([reshaped])\n",
    "        #using cnn to predict \n",
    "        result=cnn.predict(reshaped)\n",
    "        #Calling the 0 index for both label_dict and color_dict\n",
    "        label=np.argmax(result,axis=1)[0]\n",
    "        #making a rectangular area for face\n",
    "        cv2.rectangle(im,(x,y),(x+l,y+w),color_dict[label],1)\n",
    "        #making a rectangular area for outline border\n",
    "        cv2.rectangle(im,(x,y-40),(x+l,y),color_dict[label],-1)\n",
    "        #Giving desired font-style for the label\n",
    "        cv2.putText(im, labels_dict[label], (x, y-10),cv2.FONT_HERSHEY_SIMPLEX,0.8,(255,255,255),2)\n",
    "    #Opening webcam\n",
    "    cv2.imshow('LIVE',   im)\n",
    "    #Accepting key pressed and process in 10 sec\n",
    "    key = cv2.waitKey(10)\n",
    "    # stop loop by ESC\n",
    "    if key == 27: #The Esc key\n",
    "        break\n",
    "#webcam stops accepting data        \n",
    "camera.release()\n",
    "#destroys the webcam window\n",
    "cv2.destroyAllWindows()"
   ]
  },
  {
   "cell_type": "code",
   "execution_count": null,
   "metadata": {},
   "outputs": [],
   "source": []
  }
 ],
 "metadata": {
  "kernelspec": {
   "display_name": "Python 3",
   "language": "python",
   "name": "python3"
  },
  "language_info": {
   "codemirror_mode": {
    "name": "ipython",
    "version": 3
   },
   "file_extension": ".py",
   "mimetype": "text/x-python",
   "name": "python",
   "nbconvert_exporter": "python",
   "pygments_lexer": "ipython3",
   "version": "3.8.5"
  }
 },
 "nbformat": 4,
 "nbformat_minor": 4
}
